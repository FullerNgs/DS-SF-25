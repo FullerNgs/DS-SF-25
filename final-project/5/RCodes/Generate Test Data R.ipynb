{
 "cells": [
  {
   "cell_type": "code",
   "execution_count": 2,
   "metadata": {
    "collapsed": true
   },
   "outputs": [],
   "source": [
    "#Set some data directories\n",
    "tempdir=\"/Users/ga-sombeet/Desktop/DSProject2RFBiostar/RCodes/files\"\n",
    "outdir=\"/Users/ga-sombeet/Desktop/DSProject2RFBiostar/RCodes/files\""
   ]
  },
  {
   "cell_type": "code",
   "execution_count": 3,
   "metadata": {
    "collapsed": false
   },
   "outputs": [
    {
     "name": "stderr",
     "output_type": "stream",
     "text": [
      "Bioconductor version 3.3 (BiocInstaller 1.22.3), ?biocLite for help\n",
      "BioC_mirror: https://bioconductor.org\n",
      "Using Bioconductor 3.3 (BiocInstaller 1.22.3), R 3.3.1 (2016-06-21).\n",
      "Old packages: 'car', 'caret', 'curl', 'DBI', 'digest', 'dplyr', 'foreign',\n",
      "  'htmlwidgets', 'httr', 'IRdisplay', 'jsonlite', 'knitr', 'lattice', 'maps',\n",
      "  'Matrix', 'mgcv', 'mime', 'quantmod', 'quantreg', 'R6', 'Rcpp', 'RcppEigen',\n",
      "  'repr', 'rmarkdown', 'shiny', 'SparseM', 'stringr', 'survival', 'tibble',\n",
      "  'tidyr'\n"
     ]
    }
   ],
   "source": [
    "#install the core bioconductor packages, if not already installed\n",
    "source(\"http://bioconductor.org/biocLite.R\")\n",
    "biocLite()"
   ]
  },
  {
   "cell_type": "code",
   "execution_count": 4,
   "metadata": {
    "collapsed": false
   },
   "outputs": [
    {
     "name": "stderr",
     "output_type": "stream",
     "text": [
      "BioC_mirror: https://bioconductor.org\n",
      "Using Bioconductor 3.3 (BiocInstaller 1.22.3), R 3.3.1 (2016-06-21).\n",
      "Installing package(s) ‘GEOquery’\n",
      "also installing the dependency ‘XML’\n",
      "\n",
      "Warning message:\n",
      "In install.packages(pkgs = doing, lib = lib, ...): installation of package ‘XML’ had non-zero exit statusWarning message:\n",
      "In install.packages(pkgs = doing, lib = lib, ...): installation of package ‘GEOquery’ had non-zero exit statusOld packages: 'car', 'caret', 'curl', 'DBI', 'digest', 'dplyr', 'foreign',\n",
      "  'htmlwidgets', 'httr', 'IRdisplay', 'jsonlite', 'knitr', 'lattice', 'maps',\n",
      "  'Matrix', 'mgcv', 'mime', 'quantmod', 'quantreg', 'R6', 'Rcpp', 'RcppEigen',\n",
      "  'repr', 'rmarkdown', 'shiny', 'SparseM', 'stringr', 'survival', 'tibble',\n",
      "  'tidyr'\n",
      "BioC_mirror: https://bioconductor.org\n",
      "Using Bioconductor 3.3 (BiocInstaller 1.22.3), R 3.3.1 (2016-06-21).\n",
      "Installing package(s) ‘affy’\n",
      "Old packages: 'car', 'caret', 'curl', 'DBI', 'digest', 'dplyr', 'foreign',\n",
      "  'htmlwidgets', 'httr', 'IRdisplay', 'jsonlite', 'knitr', 'lattice', 'maps',\n",
      "  'Matrix', 'mgcv', 'mime', 'quantmod', 'quantreg', 'R6', 'Rcpp', 'RcppEigen',\n",
      "  'repr', 'rmarkdown', 'shiny', 'SparseM', 'stringr', 'survival', 'tibble',\n",
      "  'tidyr'\n",
      "BioC_mirror: https://bioconductor.org\n",
      "Using Bioconductor 3.3 (BiocInstaller 1.22.3), R 3.3.1 (2016-06-21).\n",
      "Installing package(s) ‘gcrma’\n",
      "Old packages: 'car', 'caret', 'curl', 'DBI', 'digest', 'dplyr', 'foreign',\n",
      "  'htmlwidgets', 'httr', 'IRdisplay', 'jsonlite', 'knitr', 'lattice', 'maps',\n",
      "  'Matrix', 'mgcv', 'mime', 'quantmod', 'quantreg', 'R6', 'Rcpp', 'RcppEigen',\n",
      "  'repr', 'rmarkdown', 'shiny', 'SparseM', 'stringr', 'survival', 'tibble',\n",
      "  'tidyr'\n",
      "BioC_mirror: https://bioconductor.org\n",
      "Using Bioconductor 3.3 (BiocInstaller 1.22.3), R 3.3.1 (2016-06-21).\n",
      "Installing package(s) ‘org.Hs.eg.db’\n",
      "Old packages: 'car', 'caret', 'curl', 'DBI', 'digest', 'dplyr', 'foreign',\n",
      "  'htmlwidgets', 'httr', 'IRdisplay', 'jsonlite', 'knitr', 'lattice', 'maps',\n",
      "  'Matrix', 'mgcv', 'mime', 'quantmod', 'quantreg', 'R6', 'Rcpp', 'RcppEigen',\n",
      "  'repr', 'rmarkdown', 'shiny', 'SparseM', 'stringr', 'survival', 'tibble',\n",
      "  'tidyr'\n"
     ]
    }
   ],
   "source": [
    "# install additional bioconductor libraries, if not already installed\n",
    "biocLite(\"GEOquery\")\n",
    "biocLite(\"affy\")\n",
    "biocLite(\"gcrma\")\n",
    "biocLite(\"org.Hs.eg.db\")"
   ]
  },
  {
   "cell_type": "code",
   "execution_count": null,
   "metadata": {
    "collapsed": true
   },
   "outputs": [],
   "source": [
    "# Install custom CDF packages\n",
    "biocLite(\"hgu133ahsentrezgcdf\")\n",
    "biocLite(\"hgu133ahsentrezgprobe\")\n",
    "biocLite(\"hgu133ahsentrezg.db\")\n"
   ]
  },
  {
   "cell_type": "code",
   "execution_count": null,
   "metadata": {
    "collapsed": true
   },
   "outputs": [],
   "source": [
    "# Load all necessary libraries\n",
    "library(GEOquery)\n",
    "library(affy)\n",
    "library(gcrma)\n",
    "library(hgu133ahsentrezgcdf) #cdfname=\"HGU133A_HS_ENTREZG\"\n",
    "library(hgu133ahsentrezgprobe)\n",
    "library(hgu133ahsentrezg.db)"
   ]
  },
  {
   "cell_type": "code",
   "execution_count": null,
   "metadata": {
    "collapsed": true
   },
   "outputs": [],
   "source": [
    "# Set a data directory, download a GEO dataset, unpack and gunzip, and create a list of files for processing \n",
    "setwd(tempdir)\n",
    "getGEOSuppFiles(\"GSE2990\")\n",
    "setwd(paste(tempdir,\"GSE2990\", sep=\"\"))\n",
    "untar(\"GSE2990_RAW.tar\", exdir=\"data\")\n",
    "cels = list.files(\"data/\", pattern = \"cel\")\n",
    "sapply(paste(\"data\", cels, sep=\"/\"), gunzip)\n",
    "cels = list.files(\"data/\", pattern = \"cel\")"
   ]
  },
  {
   "cell_type": "code",
   "execution_count": null,
   "metadata": {
    "collapsed": true
   },
   "outputs": [],
   "source": [
    "# Create AffyBatch object\n",
    "setwd(paste(tempdir,\"GSE2990/data\", sep=\"\"))\n",
    "raw.data=ReadAffy(verbose=TRUE, filenames=cels, cdfname=\"HGU133A_HS_ENTREZG\") "
   ]
  },
  {
   "cell_type": "code",
   "execution_count": null,
   "metadata": {
    "collapsed": false
   },
   "outputs": [],
   "source": [
    "# Perform GCRMA normalization\n",
    "data.gcrma.norm=gcrma(raw.data)\n",
    "\n",
    "# Extract expression values\n",
    "gcrma=exprs(data.gcrma.norm)\n",
    "\n",
    "# Remove Affy control probes - in this custom CDF, these are found in rows 12031 to 12098\n",
    "# Check for yourself and look for probenames starting with \"AFFX\"\n",
    "gcrma=gcrma[1:12030,] \n",
    "\n",
    "probes=row.names(gcrma)\n",
    "symbol = unlist(mget(probes, hgu133ahsentrezgSYMBOL))\n",
    "ID = unlist(mget(probes, hgu133ahsentrezgENTREZID))\n",
    "\n",
    "#Combine gene annotations with raw data\n",
    "gcrma=cbind(probes,ID,symbol,gcrma)\n",
    "\n",
    "#Write GCRMA-normalized, mapped data to file\n",
    "setwd(outdir)\n",
    "write.table(gcrma, file = \"testset_gcrma.txt\", quote = FALSE, sep = \"\\t\", row.names = FALSE, col.names = TRUE)\n",
    "\n",
    "#Get clinical details for this dataset\n",
    "GSE2990_clindata=read.table(\"ftp://ftp.ncbi.nlm.nih.gov/geo/series/GSE2nnn/GSE2990/suppl/GSE2990_suppl_info.txt\", header=TRUE) \n",
    "write.table(GSE2990_clindata, \"testset_clindetails.txt\", quote = FALSE, sep = \"\\t\", row.names = FALSE, col.names = TRUE)"
   ]
  },
  {
   "cell_type": "code",
   "execution_count": null,
   "metadata": {
    "collapsed": true
   },
   "outputs": [],
   "source": []
  }
 ],
 "metadata": {
  "anaconda-cloud": {},
  "kernelspec": {
   "display_name": "R",
   "language": "R",
   "name": "ir"
  },
  "language_info": {
   "codemirror_mode": "r",
   "file_extension": ".r",
   "mimetype": "text/x-r-source",
   "name": "R",
   "pygments_lexer": "r",
   "version": "3.3.1"
  }
 },
 "nbformat": 4,
 "nbformat_minor": 0
}
