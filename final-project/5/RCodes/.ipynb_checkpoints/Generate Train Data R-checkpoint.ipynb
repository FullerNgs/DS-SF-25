{
 "cells": [
  {
   "cell_type": "code",
   "execution_count": null,
   "metadata": {
    "collapsed": false
   },
   "outputs": [],
   "source": [
    "#Set some data directories\n",
    "tempdir=\"/Users/ga-sombeet/Desktop/DSProject2RFBiostar/RCodes/files\"\n",
    "outdir=\"/Users/ga-sombeet/Desktop/DSProject2RFBiostar/RCodes/files\""
   ]
  },
  {
   "cell_type": "code",
   "execution_count": null,
   "metadata": {
    "collapsed": false
   },
   "outputs": [],
   "source": [
    "#install the core bioconductor packages, if not already installed\n",
    "source(\"http://bioconductor.org/biocLite.R\")\n",
    "biocLite()"
   ]
  },
  {
   "cell_type": "code",
   "execution_count": null,
   "metadata": {
    "collapsed": false
   },
   "outputs": [],
   "source": [
    "# install additional bioconductor libraries, if not already installed\n",
    "biocLite(\"GEOquery\")\n",
    "biocLite(\"affy\")\n",
    "biocLite(\"gcrma\")\n",
    "biocLite(\"org.Hs.eg.db\")"
   ]
  },
  {
   "cell_type": "code",
   "execution_count": null,
   "metadata": {
    "collapsed": false
   },
   "outputs": [],
   "source": [
    "biocLite(\"hugene10stv1cdf\")\n",
    "biocLite(\"hugene10stv1probe\")\n",
    "biocLite(\"hugene10stprobeset.db\")\n",
    "biocLite(\"hugene10sttranscriptcluster.db\")"
   ]
  },
  {
   "cell_type": "code",
   "execution_count": null,
   "metadata": {
    "collapsed": false
   },
   "outputs": [],
   "source": [
    "# Install custom CDF packages\n",
    "biocLite(\"hgu133ahsentrezgcdf\")\n",
    "biocLite(\"hgu133ahsentrezgprobe\")\n",
    "biocLite(\"hgu133ahsentrezg.db\")\n",
    "# Note, if the above do not install successfully with the biocLite method:\n",
    "# Obtain current source files from:\n",
    "# http://brainarray.mbni.med.umich.edu/Brainarray/Database/CustomCDF/CDF_download.asp\n",
    "# Go to latest version, choose link to ENTREZG for appropriate version of R, find HGU95A row and download three source packages ('C', 'P' and 'A')\n",
    "# In a terminal, run R CMD INSTALL <pckgfilename> where , <pckgfilename> is the name of the package file you downloaded"
   ]
  },
  {
   "cell_type": "code",
   "execution_count": null,
   "metadata": {
    "collapsed": false
   },
   "outputs": [],
   "source": [
    "# Load all necessary libraries\n",
    "library(GEOquery)\n",
    "library(affy)\n",
    "library(gcrma)\n",
    "library(hgu133ahsentrezgcdf) #cdfname=\"HGU133A_HS_ENTREZG\"\n",
    "library(hgu133ahsentrezgprobe)\n",
    "library(hgu133ahsentrezg.db)"
   ]
  },
  {
   "cell_type": "code",
   "execution_count": null,
   "metadata": {
    "collapsed": false
   },
   "outputs": [],
   "source": [
    "# Set a data directory, download a GEO dataset, unpack and gunzip, and create a list of files for processing \n",
    "setwd(tempdir)\n",
    "getGEOSuppFiles(\"GSE2034\")\n",
    "setwd(paste(tempdir,\"GSE2034\", sep=\"\"))\n",
    "untar(\"GSE2034_RAW.tar\", exdir=\"data\")\n",
    "cels = list.files(\"data/\", pattern = \"CEL\")\n",
    "sapply(paste(\"data\", cels, sep=\"/\"), gunzip)\n",
    "cels = list.files(\"data/\", pattern = \"CEL\")\n",
    "\n",
    "# Create AffyBatch object\n",
    "setwd(paste(tempdir,\"GSE2034/data\", sep=\"\"))\n",
    "raw.data=ReadAffy(verbose=TRUE, filenames=cels, cdfname=\"HGU133A_HS_ENTREZG\") "
   ]
  },
  {
   "cell_type": "code",
   "execution_count": null,
   "metadata": {
    "collapsed": false
   },
   "outputs": [],
   "source": [
    "# Perform GCRMA normalization\n",
    "data.gcrma.norm=gcrma(raw.data)\n",
    "\n",
    "# Extract expression values\n",
    "gcrma=exprs(data.gcrma.norm)\n",
    "\n",
    "# Remove Affy control probes - in this custom CDF, these are found in rows 12031 to 12098\n",
    "# Check for yourself and look for probenames starting with \"AFFX\"\n",
    "gcrma=gcrma[1:12030,] \n",
    "\n",
    "probes=row.names(gcrma)\n",
    "symbol = unlist(mget(probes, hgu133ahsentrezgSYMBOL))\n",
    "ID = unlist(mget(probes, hgu133ahsentrezgENTREZID))\n",
    "\n",
    "#Combine gene annotations with raw data\n",
    "gcrma=cbind(probes,ID,symbol,gcrma)\n",
    "\n",
    "#Write GCRMA-normalized, mapped data to file\n",
    "setwd(outdir)\n",
    "write.table(gcrma, file = \"trainset_gcrma.txt\", quote = FALSE, sep = \"\\t\", row.names = FALSE, col.names = TRUE)\n",
    "\n",
    "#Get clinical details for this dataset\n",
    "GSE2034_clindata=getGSEDataTables(\"GSE2034\")[[2]][1:286,]\n",
    "write.table(GSE2034_clindata, \"trainset_clindetails.txt\", quote = FALSE, sep = \"\\t\", row.names = FALSE, col.names = TRUE)"
   ]
  },
  {
   "cell_type": "code",
   "execution_count": null,
   "metadata": {
    "collapsed": false
   },
   "outputs": [],
   "source": [
    "GSE2034_clindata=getGSEDataTables(\"GSE2034\")[[2]][1:286,]\n",
    "write.table(GSE2034_clindata, \"trainset_clindetails.txt\", quote = FALSE, sep = \"\\t\", row.names = FALSE)"
   ]
  },
  {
   "cell_type": "code",
   "execution_count": null,
   "metadata": {
    "collapsed": true
   },
   "outputs": [],
   "source": []
  }
 ],
 "metadata": {
  "anaconda-cloud": {},
  "kernelspec": {
   "display_name": "R",
   "language": "R",
   "name": "ir"
  },
  "language_info": {
   "codemirror_mode": "r",
   "file_extension": ".r",
   "mimetype": "text/x-r-source",
   "name": "R",
   "pygments_lexer": "r",
   "version": "3.3.1"
  }
 },
 "nbformat": 4,
 "nbformat_minor": 0
}
